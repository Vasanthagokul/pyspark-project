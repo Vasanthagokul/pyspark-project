{
 "cells": [
  {
   "cell_type": "markdown",
   "metadata": {},
   "source": [
    "# Initiating the connection with pyspark"
   ]
  },
  {
   "cell_type": "code",
   "execution_count": 1,
   "metadata": {},
   "outputs": [
    {
     "data": {
      "text/plain": [
       "'C:\\\\Spark\\\\spark-3.1.1-bin-hadoop2.7'"
      ]
     },
     "execution_count": 1,
     "metadata": {},
     "output_type": "execute_result"
    }
   ],
   "source": [
    "import findspark\n",
    "findspark.init()\n",
    "findspark.find()\n",
    "import pyspark\n",
    "findspark.find()"
   ]
  },
  {
   "cell_type": "code",
   "execution_count": 2,
   "metadata": {},
   "outputs": [],
   "source": [
    "from pyspark import SparkContext, SparkConf\n",
    "from pyspark.sql.types import*"
   ]
  },
  {
   "cell_type": "code",
   "execution_count": 3,
   "metadata": {},
   "outputs": [],
   "source": [
    "from pyspark.sql import SparkSession\n",
    "conf=pyspark.SparkConf().setAppName('SparkApp').setMaster('local')\n",
    "sc=pyspark.SparkContext(conf=conf)\n",
    "spark=SparkSession(sc)"
   ]
  },
  {
   "cell_type": "code",
   "execution_count": 4,
   "metadata": {},
   "outputs": [],
   "source": [
    "from pyspark import SparkContext\n",
    "from pyspark.sql import SparkSession\n",
    "from pyspark.sql.functions import *\n",
    "from pyspark.sql.types import *"
   ]
  },
  {
   "cell_type": "code",
   "execution_count": 5,
   "metadata": {},
   "outputs": [],
   "source": [
    "spark = SparkSession.Builder().getOrCreate()"
   ]
  },
  {
   "cell_type": "markdown",
   "metadata": {},
   "source": [
    "# Classification Problem\n",
    "## Reading the dataset and preprocessing it"
   ]
  },
  {
   "cell_type": "code",
   "execution_count": 6,
   "metadata": {},
   "outputs": [
    {
     "name": "stdout",
     "output_type": "stream",
     "text": [
      "+----------+---------+-------+---------------+-------------+--------+--------+\n",
      "|DayofMonth|DayOfWeek|Carrier|OriginAirportID|DestAirportID|DepDelay|ArrDelay|\n",
      "+----------+---------+-------+---------------+-------------+--------+--------+\n",
      "|        19|        5|     DL|          11433|        13303|      -3|       1|\n",
      "|        19|        5|     DL|          14869|        12478|       0|      -8|\n",
      "|        19|        5|     DL|          14057|        14869|      -4|     -15|\n",
      "|        19|        5|     DL|          15016|        11433|      28|      24|\n",
      "|        19|        5|     DL|          11193|        12892|      -6|     -11|\n",
      "|        19|        5|     DL|          10397|        15016|      -1|     -19|\n",
      "|        19|        5|     DL|          15016|        10397|       0|      -1|\n",
      "|        19|        5|     DL|          10397|        14869|      15|      24|\n",
      "|        19|        5|     DL|          10397|        10423|      33|      34|\n",
      "|        19|        5|     DL|          11278|        10397|     323|     322|\n",
      "+----------+---------+-------+---------------+-------------+--------+--------+\n",
      "only showing top 10 rows\n",
      "\n"
     ]
    }
   ],
   "source": [
    "flightSchema = StructType([\n",
    "  StructField(\"DayofMonth\", IntegerType(), False),\n",
    "  StructField(\"DayOfWeek\", IntegerType(), False),\n",
    "  StructField(\"Carrier\", StringType(), False),\n",
    "  StructField(\"OriginAirportID\", IntegerType(), False),\n",
    "  StructField(\"DestAirportID\", IntegerType(), False),\n",
    "  StructField(\"DepDelay\", IntegerType(), False),\n",
    "  StructField(\"ArrDelay\", IntegerType(), False),\n",
    "])\n",
    "\n",
    "flights = spark.read.csv('dataset/raw-flight-data.csv', \n",
    "                         schema=flightSchema, header=True)\n",
    "flights.show(10)"
   ]
  },
  {
   "cell_type": "code",
   "execution_count": 7,
   "metadata": {},
   "outputs": [
    {
     "name": "stdout",
     "output_type": "stream",
     "text": [
      "+----------+-----------+-----+--------------------+\n",
      "|airport_id|       city|state|                name|\n",
      "+----------+-----------+-----+--------------------+\n",
      "|     10165|Adak Island|   AK|                Adak|\n",
      "|     10299|  Anchorage|   AK|Ted Stevens Ancho...|\n",
      "|     10304|      Aniak|   AK|       Aniak Airport|\n",
      "|     10754|     Barrow|   AK|Wiley Post/Will R...|\n",
      "|     10551|     Bethel|   AK|      Bethel Airport|\n",
      "|     10926|    Cordova|   AK|Merle K Mudhole S...|\n",
      "|     14709|  Deadhorse|   AK|   Deadhorse Airport|\n",
      "|     11336| Dillingham|   AK|  Dillingham Airport|\n",
      "|     11630|  Fairbanks|   AK|Fairbanks Interna...|\n",
      "|     11997|   Gustavus|   AK|    Gustavus Airport|\n",
      "+----------+-----------+-----+--------------------+\n",
      "only showing top 10 rows\n",
      "\n"
     ]
    }
   ],
   "source": [
    "airportSchema = StructType([\n",
    "  StructField(\"airport_id\", IntegerType(), False),\n",
    "  StructField(\"city\", StringType(), False),\n",
    "  StructField(\"state\", StringType(), False),\n",
    "  StructField(\"name\", StringType(), False),\n",
    "])\n",
    "\n",
    "airports = spark.read.csv('dataset/airports.csv', header=True, \n",
    "                          schema=airportSchema)\n",
    "airports.show(10)"
   ]
  },
  {
   "cell_type": "markdown",
   "metadata": {},
   "source": [
    "+ Merge two dataFrame (flight and airports), and show how many flights from each City"
   ]
  },
  {
   "cell_type": "code",
   "execution_count": 8,
   "metadata": {},
   "outputs": [
    {
     "name": "stdout",
     "output_type": "stream",
     "text": [
      "+--------------+-----+\n",
      "|          city|count|\n",
      "+--------------+-----+\n",
      "|       Phoenix|90281|\n",
      "|         Omaha|13537|\n",
      "|Raleigh/Durham|28436|\n",
      "+--------------+-----+\n",
      "only showing top 3 rows\n",
      "\n"
     ]
    }
   ],
   "source": [
    "flightsByOrigin = flights.join(airports,\n",
    "                               flights.OriginAirportID == \n",
    "                               airports.airport_id).groupBy(\"city\").count()\n",
    "flightsByOrigin.show(3)"
   ]
  },
  {
   "cell_type": "markdown",
   "metadata": {},
   "source": [
    "+ **Removing Duplicate data**"
   ]
  },
  {
   "cell_type": "code",
   "execution_count": 9,
   "metadata": {},
   "outputs": [
    {
     "name": "stdout",
     "output_type": "stream",
     "text": [
      "number of original data rows:  2719418\n",
      "number of data rows after deleting duplicated data:  2696983\n",
      "number of duplicated data:  22435\n"
     ]
    }
   ],
   "source": [
    "#count the number of original data rows\n",
    "n1 = flights.count()\n",
    "print(\"number of original data rows: \", n1)\n",
    "#count the number of data rows after deleting duplicated data\n",
    "n2 = flights.dropDuplicates().count()\n",
    "print(\"number of data rows after deleting duplicated data: \", n2)\n",
    "n3 = n1 - n2\n",
    "print(\"number of duplicated data: \", n3)"
   ]
  },
  {
   "cell_type": "code",
   "execution_count": 10,
   "metadata": {},
   "outputs": [
    {
     "name": "stdout",
     "output_type": "stream",
     "text": [
      "2696983\n"
     ]
    }
   ],
   "source": [
    "flights =  flights.dropDuplicates()\n",
    "n4 = flights.count()\n",
    "print(n4)"
   ]
  },
  {
   "cell_type": "markdown",
   "metadata": {},
   "source": [
    "+ Duplicate entries successively removed"
   ]
  },
  {
   "cell_type": "markdown",
   "metadata": {},
   "source": [
    "+ **Handline missing data**"
   ]
  },
  {
   "cell_type": "code",
   "execution_count": 11,
   "metadata": {},
   "outputs": [
    {
     "name": "stdout",
     "output_type": "stream",
     "text": [
      "+----------+---------+-------+---------------+-------------+--------+--------+\n",
      "|DayofMonth|DayOfWeek|Carrier|OriginAirportID|DestAirportID|DepDelay|ArrDelay|\n",
      "+----------+---------+-------+---------------+-------------+--------+--------+\n",
      "|         0|        0|      0|              0|            0|   22209|   23798|\n",
      "+----------+---------+-------+---------------+-------------+--------+--------+\n",
      "\n"
     ]
    }
   ],
   "source": [
    "flights.select([count(when(isnan(c) | col(c).isNull(), c)).alias(c) for c in flights.columns]).show()"
   ]
  },
  {
   "cell_type": "code",
   "execution_count": 12,
   "metadata": {},
   "outputs": [
    {
     "name": "stdout",
     "output_type": "stream",
     "text": [
      "number of missing value rows:  46233\n"
     ]
    }
   ],
   "source": [
    "flightsNoMissingValue = flights.dropna(\n",
    "    how=\"any\", subset=[\"ArrDelay\", \"DepDelay\"])# use how=\"all\" for all column missing data\n",
    "numberOfMissingValueAny = n1 - flightsNoMissingValue.count()\n",
    "\n",
    "print(\"number of missing value rows: \", numberOfMissingValueAny)"
   ]
  },
  {
   "cell_type": "code",
   "execution_count": 13,
   "metadata": {},
   "outputs": [
    {
     "name": "stdout",
     "output_type": "stream",
     "text": [
      "mean ArrDelay:  6.7272897311633875\n",
      "mean DepDelay:  10.618575625454712\n",
      "+------------------+\n",
      "|     avg(ArrDelay)|\n",
      "+------------------+\n",
      "|6.7272897311633875|\n",
      "+------------------+\n",
      "\n"
     ]
    }
   ],
   "source": [
    "#take mean value\n",
    "meanArrDelay = flights.groupBy().avg(\"ArrDelay\").take(1)[0][0]\n",
    "print(\"mean ArrDelay: \", meanArrDelay)\n",
    "meanDepDelay = flights.groupBy().avg(\"DepDelay\").take(1)[0][0]\n",
    "print(\"mean DepDelay: \", meanDepDelay)\n",
    "#drop duplicated data and fill missing data with mean value\n",
    "flightsCleanData=flights.fillna(\n",
    "    {'ArrDelay': meanArrDelay, 'DepDelay': meanDepDelay})\n",
    "#just for experiment\n",
    "flights.groupBy().avg(\"ArrDelay\").show()"
   ]
  },
  {
   "cell_type": "code",
   "execution_count": 14,
   "metadata": {},
   "outputs": [
    {
     "name": "stdout",
     "output_type": "stream",
     "text": [
      "+----------+---------+-------+---------------+-------------+--------+--------+\n",
      "|DayofMonth|DayOfWeek|Carrier|OriginAirportID|DestAirportID|DepDelay|ArrDelay|\n",
      "+----------+---------+-------+---------------+-------------+--------+--------+\n",
      "|         0|        0|      0|              0|            0|       0|       0|\n",
      "+----------+---------+-------+---------------+-------------+--------+--------+\n",
      "\n"
     ]
    }
   ],
   "source": [
    "flightsCleanData.select([count(when(isnan(c) | col(c).isNull(), c)).alias(c) for c in flightsCleanData.columns]).show()"
   ]
  },
  {
   "cell_type": "markdown",
   "metadata": {},
   "source": [
    "+ Successively replaced the null values with the means of the column"
   ]
  },
  {
   "cell_type": "markdown",
   "metadata": {},
   "source": [
    "+ we have removed any duplicate entries and also handled missing entries"
   ]
  },
  {
   "cell_type": "markdown",
   "metadata": {},
   "source": [
    "+ Displaying cleaned data and its statistics"
   ]
  },
  {
   "cell_type": "code",
   "execution_count": 15,
   "metadata": {},
   "outputs": [
    {
     "name": "stdout",
     "output_type": "stream",
     "text": [
      "+----------+---------+-------+---------------+-------------+--------+--------+\n",
      "|DayofMonth|DayOfWeek|Carrier|OriginAirportID|DestAirportID|DepDelay|ArrDelay|\n",
      "+----------+---------+-------+---------------+-------------+--------+--------+\n",
      "|         2|        1|     WN|          12889|        10140|      -1|       7|\n",
      "|         6|        1|     WN|          10821|        10140|       1|     -22|\n",
      "|         8|        1|     AA|          11298|        10140|       0|       6|\n",
      "|         8|        1|     MQ|          12892|        10140|       0|       9|\n",
      "|        15|        1|     WN|          11259|        10140|      21|      20|\n",
      "|        15|        1|     WN|          14747|        10140|      -6|       3|\n",
      "|        17|        1|     WN|          12889|        10140|      -4|      -9|\n",
      "|        19|        1|     EV|          12266|        10140|      -5|     -15|\n",
      "|        21|        1|     AA|          11298|        10140|      63|      54|\n",
      "|        26|        1|     DL|          10397|        10140|      -5|     -30|\n",
      "+----------+---------+-------+---------------+-------------+--------+--------+\n",
      "only showing top 10 rows\n",
      "\n"
     ]
    }
   ],
   "source": [
    "flightsCleanData.show(10)"
   ]
  },
  {
   "cell_type": "code",
   "execution_count": 16,
   "metadata": {},
   "outputs": [
    {
     "name": "stdout",
     "output_type": "stream",
     "text": [
      "+-------+------------------+------------------+\n",
      "|summary|          DepDelay|          ArrDelay|\n",
      "+-------+------------------+------------------+\n",
      "|  count|           2696983|           2696983|\n",
      "|   mean|10.613481805409972|  6.72087217457433|\n",
      "| stddev| 36.04900147972999|38.578791794541594|\n",
      "|    min|               -63|               -94|\n",
      "|    max|              1863|              1845|\n",
      "+-------+------------------+------------------+\n",
      "\n"
     ]
    }
   ],
   "source": [
    "flightsCleanData.describe('DepDelay','ArrDelay').show()"
   ]
  },
  {
   "cell_type": "code",
   "execution_count": 17,
   "metadata": {},
   "outputs": [
    {
     "name": "stdout",
     "output_type": "stream",
     "text": [
      "+----------+---------+-------+---------------+-------------+--------+--------+------------+\n",
      "|DayofMonth|DayOfWeek|Carrier|OriginAirportID|DestAirportID|DepDelay|ArrDelay|carrierIndex|\n",
      "+----------+---------+-------+---------------+-------------+--------+--------+------------+\n",
      "|         2|        1|     WN|          12889|        10140|      -1|       7|         0.0|\n",
      "|         6|        1|     WN|          10821|        10140|       1|     -22|         0.0|\n",
      "|         8|        1|     AA|          11298|        10140|       0|       6|         2.0|\n",
      "|         8|        1|     MQ|          12892|        10140|       0|       9|         8.0|\n",
      "|        15|        1|     WN|          11259|        10140|      21|      20|         0.0|\n",
      "|        15|        1|     WN|          14747|        10140|      -6|       3|         0.0|\n",
      "|        17|        1|     WN|          12889|        10140|      -4|      -9|         0.0|\n",
      "|        19|        1|     EV|          12266|        10140|      -5|     -15|         6.0|\n",
      "|        21|        1|     AA|          11298|        10140|      63|      54|         2.0|\n",
      "|        26|        1|     DL|          10397|        10140|      -5|     -30|         1.0|\n",
      "|        27|        1|     AA|          11298|        10140|     113|     117|         2.0|\n",
      "|        28|        1|     AA|          11298|        10140|      -3|       2|         2.0|\n",
      "|         3|        2|     WN|          12191|        10140|      -3|     -19|         0.0|\n",
      "|         4|        2|     WN|          12191|        10140|      51|      55|         0.0|\n",
      "|         7|        2|     OO|          12266|        10140|      -3|     -11|         5.0|\n",
      "|         8|        2|     MQ|          12892|        10140|      17|      25|         8.0|\n",
      "|        13|        2|     WN|          13796|        10140|      -2|     -11|         0.0|\n",
      "|        15|        2|     WN|          12889|        10140|      -2|     -15|         0.0|\n",
      "|        22|        2|     WN|          11259|        10140|       3|      -3|         0.0|\n",
      "|        25|        2|     OO|          14869|        10140|      -2|       2|         5.0|\n",
      "+----------+---------+-------+---------------+-------------+--------+--------+------------+\n",
      "only showing top 20 rows\n",
      "\n"
     ]
    }
   ],
   "source": [
    "from pyspark.ml.feature import StringIndexer #this is used to label encode our data\n",
    "indexer = StringIndexer(inputCol=\"Carrier\", outputCol=\"carrierIndex\")\n",
    "encodedFlightData =  indexer.fit(flightsCleanData).transform(flightsCleanData)\n",
    "encodedFlightData.show()"
   ]
  },
  {
   "cell_type": "markdown",
   "metadata": {},
   "source": [
    "+ As shown above the last column is an encoded version of the Carrier column\n",
    "+ now we will drop the column with string values and display the **Cleaned Dataset**"
   ]
  },
  {
   "cell_type": "code",
   "execution_count": 18,
   "metadata": {},
   "outputs": [
    {
     "name": "stdout",
     "output_type": "stream",
     "text": [
      "+----------+---------+---------------+-------------+--------+--------+------------+\n",
      "|DayofMonth|DayOfWeek|OriginAirportID|DestAirportID|DepDelay|ArrDelay|carrierIndex|\n",
      "+----------+---------+---------------+-------------+--------+--------+------------+\n",
      "|         2|        1|          12889|        10140|      -1|       7|         0.0|\n",
      "|         6|        1|          10821|        10140|       1|     -22|         0.0|\n",
      "|         8|        1|          11298|        10140|       0|       6|         2.0|\n",
      "|         8|        1|          12892|        10140|       0|       9|         8.0|\n",
      "|        15|        1|          11259|        10140|      21|      20|         0.0|\n",
      "+----------+---------+---------------+-------------+--------+--------+------------+\n",
      "only showing top 5 rows\n",
      "\n"
     ]
    }
   ],
   "source": [
    "FinalCleanedFlightData = encodedFlightData.drop(\"Carrier\")\n",
    "FinalCleanedFlightData.show(5)"
   ]
  },
  {
   "cell_type": "markdown",
   "metadata": {},
   "source": [
    "+ For our classification problem we will need a target column so we shall classify the flight as late if ArrDelay>15"
   ]
  },
  {
   "cell_type": "code",
   "execution_count": 19,
   "metadata": {},
   "outputs": [
    {
     "name": "stdout",
     "output_type": "stream",
     "text": [
      "+----------+---------+---------------+-------------+--------+------------+----+\n",
      "|DayofMonth|DayOfWeek|OriginAirportID|DestAirportID|DepDelay|carrierIndex|Late|\n",
      "+----------+---------+---------------+-------------+--------+------------+----+\n",
      "|         2|        1|          12889|        10140|      -1|         0.0|   0|\n",
      "|         6|        1|          10821|        10140|       1|         0.0|   0|\n",
      "|         8|        1|          11298|        10140|       0|         2.0|   0|\n",
      "|         8|        1|          12892|        10140|       0|         8.0|   0|\n",
      "|        15|        1|          11259|        10140|      21|         0.0|   1|\n",
      "+----------+---------+---------------+-------------+--------+------------+----+\n",
      "only showing top 5 rows\n",
      "\n"
     ]
    }
   ],
   "source": [
    "Flightdata = FinalCleanedFlightData.select(\n",
    "    \"DayofMonth\", \"DayOfWeek\", \"OriginAirportID\", \"DestAirportID\", \n",
    "    \"DepDelay\",\"carrierIndex\", ((col(\"ArrDelay\") > 15).cast(\"Int\").alias(\"Late\")))\n",
    "Flightdata.show(5)"
   ]
  },
  {
   "cell_type": "markdown",
   "metadata": {},
   "source": [
    "# Normalization\n",
    "+ the OriginalAirportID and DestAirportID are very large values so this might hinder training so I am going to scale them down to make it easier to work with for the model"
   ]
  },
  {
   "cell_type": "code",
   "execution_count": 20,
   "metadata": {},
   "outputs": [
    {
     "name": "stdout",
     "output_type": "stream",
     "text": [
      "This is the maximum of the column 'OriginAirportID': \n",
      "+--------------------+\n",
      "|max(OriginAirportID)|\n",
      "+--------------------+\n",
      "|               15376|\n",
      "+--------------------+\n",
      "\n",
      "This is the minimum of the column 'OriginAirportID': \n",
      "+--------------------+\n",
      "|min(OriginAirportID)|\n",
      "+--------------------+\n",
      "|               10140|\n",
      "+--------------------+\n",
      "\n",
      "This is the maximum of the column 'OriginAirportID': \n",
      "+------------------+\n",
      "|max(DestAirportID)|\n",
      "+------------------+\n",
      "|             15376|\n",
      "+------------------+\n",
      "\n",
      "This is the minimum of the column 'OriginAirportID': \n",
      "+------------------+\n",
      "|min(DestAirportID)|\n",
      "+------------------+\n",
      "|             10140|\n",
      "+------------------+\n",
      "\n"
     ]
    }
   ],
   "source": [
    "print(\"This is the maximum of the column 'OriginAirportID': \")\n",
    "Flightdata.agg({'OriginAirportID':'max'}).show()\n",
    "\n",
    "print(\"This is the minimum of the column 'OriginAirportID': \")\n",
    "Flightdata.agg({'OriginAirportID':'min'}).show()\n",
    "\n",
    "print(\"This is the maximum of the column 'OriginAirportID': \")\n",
    "Flightdata.agg({'DestAirportID':'max'}).show()\n",
    "\n",
    "print(\"This is the minimum of the column 'OriginAirportID': \")\n",
    "Flightdata.agg({'DestAirportID':'min'}).show()"
   ]
  },
  {
   "cell_type": "markdown",
   "metadata": {},
   "source": [
    "+ I am going to perform minmax normalization scaling"
   ]
  },
  {
   "cell_type": "code",
   "execution_count": 21,
   "metadata": {
    "scrolled": true
   },
   "outputs": [
    {
     "name": "stdout",
     "output_type": "stream",
     "text": [
      "+----------+---------+---------------+-------------+--------+------------+----+-------------------+-----------------+----------------------+--------------------+\n",
      "|DayofMonth|DayOfWeek|OriginAirportID|DestAirportID|DepDelay|carrierIndex|Late|OriginAirportID_vec|DestAirportID_vec|OriginAirportID_scaled|DestAirportID_scaled|\n",
      "+----------+---------+---------------+-------------+--------+------------+----+-------------------+-----------------+----------------------+--------------------+\n",
      "|         2|        1|          12889|        10140|      -1|         0.0|   0|          [12889.0]|        [10140.0]|  [0.5250190985485103]|               [0.0]|\n",
      "|         6|        1|          10821|        10140|       1|         0.0|   0|          [10821.0]|        [10140.0]|   [0.130061115355233]|               [0.0]|\n",
      "|         8|        1|          11298|        10140|       0|         2.0|   0|          [11298.0]|        [10140.0]|  [0.22116119174942...|               [0.0]|\n",
      "|         8|        1|          12892|        10140|       0|         8.0|   0|          [12892.0]|        [10140.0]|  [0.5255920550038197]|               [0.0]|\n",
      "|        15|        1|          11259|        10140|      21|         0.0|   1|          [11259.0]|        [10140.0]|  [0.2137127578304049]|               [0.0]|\n",
      "+----------+---------+---------------+-------------+--------+------------+----+-------------------+-----------------+----------------------+--------------------+\n",
      "only showing top 5 rows\n",
      "\n"
     ]
    }
   ],
   "source": [
    "from pyspark.ml import Pipeline\n",
    "from pyspark.ml.feature import MinMaxScaler\n",
    "from pyspark.ml.feature import VectorAssembler\n",
    "\n",
    "columns_to_scale = [\"OriginAirportID\", \"DestAirportID\"]\n",
    "assemblers = [VectorAssembler(inputCols=[col], outputCol=col + \"_vec\") for col in columns_to_scale]\n",
    "scalers = [MinMaxScaler(inputCol=col + \"_vec\", outputCol=col + \"_scaled\") for col in columns_to_scale]\n",
    "pipeline = Pipeline(stages=assemblers + scalers)\n",
    "scalerModel = pipeline.fit(Flightdata)\n",
    "scaledFlightData = scalerModel.transform(Flightdata)\n",
    "scaledFlightData.show(5)"
   ]
  },
  {
   "cell_type": "markdown",
   "metadata": {},
   "source": [
    "+ Dropping all the unnecessary columns"
   ]
  },
  {
   "cell_type": "code",
   "execution_count": 22,
   "metadata": {
    "scrolled": true
   },
   "outputs": [
    {
     "name": "stdout",
     "output_type": "stream",
     "text": [
      "+----------+---------+----------------------+--------------------+--------+------------+----+\n",
      "|DayofMonth|DayOfWeek|OriginAirportID_scaled|DestAirportID_scaled|DepDelay|carrierIndex|Late|\n",
      "+----------+---------+----------------------+--------------------+--------+------------+----+\n",
      "|         2|        1|  [0.5250190985485103]|               [0.0]|      -1|         0.0|   0|\n",
      "|         6|        1|   [0.130061115355233]|               [0.0]|       1|         0.0|   0|\n",
      "|         8|        1|  [0.22116119174942...|               [0.0]|       0|         2.0|   0|\n",
      "|         8|        1|  [0.5255920550038197]|               [0.0]|       0|         8.0|   0|\n",
      "|        15|        1|  [0.2137127578304049]|               [0.0]|      21|         0.0|   1|\n",
      "+----------+---------+----------------------+--------------------+--------+------------+----+\n",
      "only showing top 5 rows\n",
      "\n"
     ]
    }
   ],
   "source": [
    "FinalFlightData = scaledFlightData.select(\n",
    "    \"DayofMonth\", \"DayOfWeek\", \"OriginAirportID_scaled\", \"DestAirportID_scaled\", \n",
    "    \"DepDelay\",\"carrierIndex\",\"Late\")\n",
    "FinalFlightData.show(5)"
   ]
  },
  {
   "cell_type": "markdown",
   "metadata": {},
   "source": [
    "+ We can see in the above scaled columns the ID has remained unique even after scaling"
   ]
  },
  {
   "cell_type": "markdown",
   "metadata": {},
   "source": [
    "# Statistical Summaries on the data, also known as EDA"
   ]
  },
  {
   "cell_type": "code",
   "execution_count": 23,
   "metadata": {},
   "outputs": [
    {
     "name": "stdout",
     "output_type": "stream",
     "text": [
      "+----------+---------+-------+---------------+-------------+--------+--------+----+\n",
      "|DayofMonth|DayOfWeek|Carrier|OriginAirportID|DestAirportID|DepDelay|ArrDelay|Late|\n",
      "+----------+---------+-------+---------------+-------------+--------+--------+----+\n",
      "|         2|        1|     WN|          12889|        10140|      -1|       7|   0|\n",
      "|         6|        1|     WN|          10821|        10140|       1|     -22|   0|\n",
      "|         8|        1|     AA|          11298|        10140|       0|       6|   0|\n",
      "|         8|        1|     MQ|          12892|        10140|       0|       9|   0|\n",
      "|        15|        1|     WN|          11259|        10140|      21|      20|   1|\n",
      "+----------+---------+-------+---------------+-------------+--------+--------+----+\n",
      "only showing top 5 rows\n",
      "\n"
     ]
    }
   ],
   "source": [
    "StatsFlightData = flightsCleanData.select(\n",
    "    \"DayofMonth\", \"DayOfWeek\",\"Carrier\",\"OriginAirportID\", \"DestAirportID\", \n",
    "    \"DepDelay\",\"ArrDelay\", ((col(\"ArrDelay\") > 15).cast(\"Int\").alias(\"Late\")))\n",
    "StatsFlightData.show(5)"
   ]
  },
  {
   "cell_type": "markdown",
   "metadata": {},
   "source": [
    "### Defining Some Utility Functions"
   ]
  },
  {
   "cell_type": "code",
   "execution_count": 24,
   "metadata": {},
   "outputs": [],
   "source": [
    "def getCount(series):\n",
    "    '''\n",
    "       Takes in a series as input and returns the unique attributes along with its percentage\n",
    "       \n",
    "       Input:\n",
    "           pandas series\n",
    "       \n",
    "       Output:\n",
    "           X: Unique attributes in the series Y: % of unique attributes in the series\n",
    "    '''\n",
    "    count = series.value_counts()\n",
    "    xValues = count.index\n",
    "    yPercent = (count/count.sum())*100\n",
    "    return xValues, yPercent"
   ]
  },
  {
   "cell_type": "code",
   "execution_count": 25,
   "metadata": {},
   "outputs": [],
   "source": [
    "def myPlot(x,y,xLable,yLable,title,figsize,type):\n",
    "    '''\n",
    "        Takes in the series of data x and y along with the XLables, YLables, Title, Figure Size and Type of the chart to plot and plots the chart\n",
    "        \n",
    "        Input:\n",
    "            x -> pandas series\n",
    "            y -> pandas series\n",
    "            XLable -> string corresponding to the lable for X Axis\n",
    "            YLable -> string corresponding to the lable for Y Axis\n",
    "            Title -> string corresponding to the Title of the graph\n",
    "            Figure Size -> Size of the intended graph\n",
    "            Type -> chart type\n",
    "        Output:\n",
    "            Plots the graph\n",
    "    '''\n",
    "    sns.set_style('whitegrid')\n",
    "    fig,axes = plt.subplots(figsize=figsize)\n",
    "    axes.yaxis.set_major_formatter(mtick.PercentFormatter())\n",
    "    axes.set_xlabel(xLable)\n",
    "    axes.set_ylabel(yLable)\n",
    "    if(title!=None):\n",
    "        axes.set_title(title)\n",
    "    if(type=='bar'):\n",
    "        sns.barplot(x=x,y=y,ax=axes)\n",
    "    if(type=='line'):\n",
    "        sns.lineplot(x=x,y=y,ax=axes,sort=False)\n",
    "    plt.show()"
   ]
  },
  {
   "cell_type": "markdown",
   "metadata": {},
   "source": [
    "+ Importing the libraries we will be using and Converting to pandas so it becomes easier to visualize"
   ]
  },
  {
   "cell_type": "code",
   "execution_count": 26,
   "metadata": {},
   "outputs": [],
   "source": [
    "import pandas as pd\n",
    "import numpy as np\n",
    "import seaborn as sns\n",
    "import matplotlib.pyplot as plt\n",
    "import matplotlib.ticker as mtick\n",
    "import numpy as np\n",
    "import pandas as pd\n",
    "\n",
    "\n",
    "\n",
    "pandasDF = StatsFlightData.toPandas()"
   ]
  },
  {
   "cell_type": "code",
   "execution_count": 27,
   "metadata": {},
   "outputs": [
    {
     "data": {
      "image/png": "[encoded data removed]",
      "text/plain": [
       "<Figure size 360x576 with 1 Axes>"
      ]
     },
     "metadata": {},
     "output_type": "display_data"
    }
   ],
   "source": [
    "xLate, yLate = getCount(pandasDF[\"Late\"])\n",
    "myPlot(xLate, yLate, xLable=\"Late Status (1=Yes, 0=No)\", yLable=\"% Percentage\", title=\"Late Arrival ratio\",figsize=(5,8),type='bar')"
   ]
  },
  {
   "cell_type": "markdown",
   "metadata": {},
   "source": [
    "+ The above bar graph allows us to view the ratio of late flights to flights arrived on time where **0** means flight arrived early or on time and **1** means flight arrived late"
   ]
  },
  {
   "cell_type": "code",
   "execution_count": 28,
   "metadata": {},
   "outputs": [
    {
     "name": "stdout",
     "output_type": "stream",
     "text": [
      "The Correlation between the DepDelay and ArrDelay is >>>>  0.9394056759019349\n"
     ]
    }
   ],
   "source": [
    "print(\"The Correlation between the DepDelay and ArrDelay is >>>> \", StatsFlightData.stat.corr(\"DepDelay\",\"ArrDelay\"))"
   ]
  },
  {
   "cell_type": "markdown",
   "metadata": {},
   "source": [
    "+ Now Let us do a summary of the time series data"
   ]
  },
  {
   "cell_type": "code",
   "execution_count": 29,
   "metadata": {
    "scrolled": false
   },
   "outputs": [
    {
     "data": {
      "text/plain": [
       "<AxesSubplot:xlabel='DayofMonth', ylabel='count'>"
      ]
     },
     "execution_count": 29,
     "metadata": {},
     "output_type": "execute_result"
    },
    {
     "data": {
      "image/png": "[encoded data removed]",
      "text/plain": [
       "<Figure size 864x864 with 1 Axes>"
      ]
     },
     "metadata": {},
     "output_type": "display_data"
    }
   ],
   "source": [
    "plt.subplots(figsize=(12,12))\n",
    "sns.countplot(x='DayofMonth',hue='Late',data=pandasDF)"
   ]
  },
  {
   "cell_type": "markdown",
   "metadata": {},
   "source": [
    "+ From this we understand that most flight become **delayed** in the second quater of the month and very **less** delays occur at the last and first quater of the month"
   ]
  },
  {
   "cell_type": "code",
   "execution_count": 30,
   "metadata": {
    "scrolled": false
   },
   "outputs": [
    {
     "data": {
      "text/plain": [
       "<AxesSubplot:xlabel='DayOfWeek', ylabel='count'>"
      ]
     },
     "execution_count": 30,
     "metadata": {},
     "output_type": "execute_result"
    },
    {
     "data": {
      "image/png": "[encoded data removed]",
      "text/plain": [
       "<Figure size 504x504 with 1 Axes>"
      ]
     },
     "metadata": {},
     "output_type": "display_data"
    }
   ],
   "source": [
    "plt.subplots(figsize=(7,7))\n",
    "sns.countplot(x='DayOfWeek',hue='Late',data=pandasDF)"
   ]
  },
  {
   "cell_type": "markdown",
   "metadata": {},
   "source": [
    "+ Most Delays occur on the fourth day of the week"
   ]
  },
  {
   "cell_type": "code",
   "execution_count": 31,
   "metadata": {},
   "outputs": [
    {
     "data": {
      "text/plain": [
       "<AxesSubplot:xlabel='count', ylabel='OriginAirportID'>"
      ]
     },
     "execution_count": 31,
     "metadata": {},
     "output_type": "execute_result"
    },
    {
     "data": {
      "image/png": "[encoded data removed]",
      "text/plain": [
       "<Figure size 1080x1080 with 1 Axes>"
      ]
     },
     "metadata": {},
     "output_type": "display_data"
    }
   ],
   "source": [
    "plt.subplots(figsize=(15,15))\n",
    "sns.countplot(y='OriginAirportID',hue='Late',data=pandasDF)"
   ]
  },
  {
   "cell_type": "markdown",
   "metadata": {},
   "source": [
    "+ From the above data we can conclude that the departure airport with ID **13930** is responsible for most of the departure delays"
   ]
  },
  {
   "cell_type": "code",
   "execution_count": 32,
   "metadata": {},
   "outputs": [
    {
     "data": {
      "text/plain": [
       "<AxesSubplot:xlabel='count', ylabel='DestAirportID'>"
      ]
     },
     "execution_count": 32,
     "metadata": {},
     "output_type": "execute_result"
    },
    {
     "data": {
      "image/png": "[encoded data removed]",
      "text/plain": [
       "<Figure size 1080x1080 with 1 Axes>"
      ]
     },
     "metadata": {},
     "output_type": "display_data"
    }
   ],
   "source": [
    "plt.subplots(figsize=(15,15))\n",
    "sns.countplot(y='DestAirportID',hue='Late',data=pandasDF)"
   ]
  },
  {
   "cell_type": "markdown",
   "metadata": {},
   "source": [
    "+ From the above data we can again conclude that the arrival airport with ID **<i>13930</i>** is responsible for most of the arrival delays also\n",
    "+ **Therefore the airport with iD <i>13930</i> is reponisble for most flight delays**"
   ]
  },
  {
   "cell_type": "markdown",
   "metadata": {},
   "source": [
    "+ Now We will view column wise summaries of the data in the column"
   ]
  },
  {
   "cell_type": "code",
   "execution_count": 33,
   "metadata": {},
   "outputs": [
    {
     "name": "stdout",
     "output_type": "stream",
     "text": [
      "+-------+------------------+------------------+-------+------------------+------------------+\n",
      "|summary|        DayofMonth|         DayOfWeek|Carrier|          DepDelay|          ArrDelay|\n",
      "+-------+------------------+------------------+-------+------------------+------------------+\n",
      "|  count|           2696983|           2696983|2696983|           2696983|           2696983|\n",
      "|   mean|15.798996508320593| 3.900369412784582|   null|10.613481805409972|  6.72087217457433|\n",
      "| stddev| 8.801267199135454|1.9864582421701977|   null| 36.04900147972999|38.578791794541594|\n",
      "|    min|                 1|                 1|     9E|               -63|               -94|\n",
      "|    max|                31|                 7|     YV|              1863|              1845|\n",
      "+-------+------------------+------------------+-------+------------------+------------------+\n",
      "\n"
     ]
    }
   ],
   "source": [
    "flightsCleanData.describe('DayofMonth','DayOfWeek','Carrier','DepDelay','ArrDelay').show()"
   ]
  },
  {
   "cell_type": "markdown",
   "metadata": {},
   "source": [
    "+ We shall conclude our stastical analysis with a correlation map of the comlumns"
   ]
  },
  {
   "cell_type": "code",
   "execution_count": 34,
   "metadata": {},
   "outputs": [
    {
     "data": {
      "text/plain": [
       "<AxesSubplot:>"
      ]
     },
     "execution_count": 34,
     "metadata": {},
     "output_type": "execute_result"
    },
    {
     "data": {
      "image/png": "[encoded data removed]",
      "text/plain": [
       "<Figure size 720x720 with 2 Axes>"
      ]
     },
     "metadata": {},
     "output_type": "display_data"
    }
   ],
   "source": [
    "figure, axes = plt.subplots(figsize=(10,10))\n",
    "sns.heatmap(pandasDF.corr(),annot=True,ax=axes)"
   ]
  },
  {
   "cell_type": "markdown",
   "metadata": {},
   "source": [
    "# Classification"
   ]
  },
  {
   "cell_type": "markdown",
   "metadata": {},
   "source": [
    "+ Splitting the processed data into training data and test data"
   ]
  },
  {
   "cell_type": "code",
   "execution_count": 35,
   "metadata": {},
   "outputs": [
    {
     "name": "stdout",
     "output_type": "stream",
     "text": [
      "Training data rows: 1888119 ; Testing data rows: 808864\n"
     ]
    }
   ],
   "source": [
    "#divide data, 70% for training, 30% for testing\n",
    "dividedData = FinalFlightData.randomSplit([0.7, 0.3]) \n",
    "trainingData = dividedData[0] #index 0 = data training\n",
    "testingData = dividedData[1] #index 1 = data testing\n",
    "train_rows = trainingData.count()\n",
    "test_rows = testingData.count()\n",
    "print (\"Training data rows:\", train_rows, \"; Testing data rows:\", test_rows)"
   ]
  },
  {
   "cell_type": "markdown",
   "metadata": {},
   "source": [
    "### Preparing training data"
   ]
  },
  {
   "cell_type": "code",
   "execution_count": 36,
   "metadata": {},
   "outputs": [
    {
     "name": "stdout",
     "output_type": "stream",
     "text": [
      "+----------------------------------------------------------+-----+\n",
      "|features                                                  |label|\n",
      "+----------------------------------------------------------+-----+\n",
      "|[1.0,1.0,9.0,0.04908326967150496,0.24694423223834988,27.0]|0    |\n",
      "|[1.0,1.0,1.0,0.04908326967150496,0.29736440030557676,8.0] |0    |\n",
      "|[1.0,1.0,9.0,0.04908326967150496,0.3917112299465241,16.0] |0    |\n",
      "|[1.0,1.0,1.0,0.04908326967150496,0.5851795263559969,-1.0] |0    |\n",
      "|[1.0,1.0,2.0,0.04908326967150496,0.604087089381207,-3.0]  |0    |\n",
      "+----------------------------------------------------------+-----+\n",
      "only showing top 5 rows\n",
      "\n"
     ]
    }
   ],
   "source": [
    "#define an assembler\n",
    "assembler = VectorAssembler(inputCols = [\n",
    "    \"DayofMonth\", \"DayOfWeek\",\"carrierIndex\", \"OriginAirportID_scaled\", \"DestAirportID_scaled\", \n",
    "    \"DepDelay\"], outputCol=\"features\")\n",
    "trainingDataFinal = assembler.transform(trainingData).select(col(\"features\"), col(\"Late\").alias(\"label\"))\n",
    "trainingDataFinal.show(truncate=False, n=5)"
   ]
  },
  {
   "cell_type": "markdown",
   "metadata": {},
   "source": [
    "### Preparing testing data"
   ]
  },
  {
   "cell_type": "code",
   "execution_count": 37,
   "metadata": {},
   "outputs": [
    {
     "name": "stdout",
     "output_type": "stream",
     "text": [
      "+--------------------+---------+\n",
      "|            features|trueLabel|\n",
      "+--------------------+---------+\n",
      "|[1.0,1.0,1.0,0.04...|        0|\n",
      "|[1.0,1.0,10.0,0.1...|        1|\n",
      "|[1.0,1.0,2.0,0.21...|        0|\n",
      "|[1.0,1.0,13.0,0.2...|        0|\n",
      "|[1.0,1.0,5.0,0.22...|        0|\n",
      "+--------------------+---------+\n",
      "only showing top 5 rows\n",
      "\n"
     ]
    }
   ],
   "source": [
    "testingDataFinal = assembler.transform(testingData).select(col(\"features\"), col(\"Late\").alias(\"trueLabel\"))\n",
    "testingDataFinal.show(5)"
   ]
  },
  {
   "cell_type": "markdown",
   "metadata": {},
   "source": [
    "### Training our classifier using our training data\n",
    "+ we are using RandomForrestClassifier as most of our data has no correlation as observed from the matrix earlier"
   ]
  },
  {
   "cell_type": "code",
   "execution_count": 38,
   "metadata": {},
   "outputs": [
    {
     "name": "stdout",
     "output_type": "stream",
     "text": [
      "Classification model is trained!\n"
     ]
    }
   ],
   "source": [
    "#define our classifier\n",
    "from pyspark.ml.classification import RandomForestClassifier\n",
    "\n",
    "model = RandomForestClassifier(\n",
    "    numTrees=3, maxDepth=5, seed=42, labelCol=\"label\",featuresCol=\"features\")\n",
    "model = model.fit(trainingDataFinal)\n",
    "print (\"Classification model is trained!\")"
   ]
  },
  {
   "cell_type": "markdown",
   "metadata": {},
   "source": [
    "### Predicting the test data using our test data on the trained model "
   ]
  },
  {
   "cell_type": "code",
   "execution_count": 39,
   "metadata": {},
   "outputs": [
    {
     "name": "stdout",
     "output_type": "stream",
     "text": [
      "+----------------------------------------------------------+----------+---------+\n",
      "|features                                                  |prediction|trueLabel|\n",
      "+----------------------------------------------------------+----------+---------+\n",
      "|[1.0,1.0,1.0,0.04908326967150496,0.5840336134453782,0.0]  |0.0       |0        |\n",
      "|[1.0,1.0,10.0,0.1768525592055004,0.446524064171123,96.0]  |1.0       |1        |\n",
      "|[1.0,1.0,2.0,0.2173414820473644,0.22116119174942703,-4.0] |0.0       |0        |\n",
      "|[1.0,1.0,13.0,0.22001527883880825,0.7087471352177235,-4.0]|0.0       |0        |\n",
      "|[1.0,1.0,5.0,0.22001527883880825,0.8676470588235294,-6.0] |0.0       |0        |\n",
      "+----------------------------------------------------------+----------+---------+\n",
      "only showing top 5 rows\n",
      "\n"
     ]
    }
   ],
   "source": [
    "prediction = model.transform(testingDataFinal)\n",
    "predictionFinal = prediction.select(\n",
    "    \"features\", \"prediction\", \"trueLabel\")\n",
    "predictionFinal.show(truncate=False, n=5)"
   ]
  },
  {
   "cell_type": "markdown",
   "metadata": {},
   "source": [
    "### Calculate our Models Performance"
   ]
  },
  {
   "cell_type": "code",
   "execution_count": 40,
   "metadata": {},
   "outputs": [
    {
     "name": "stdout",
     "output_type": "stream",
     "text": [
      "correct prediction: 749387 , total data: 808864 , accuracy 0.9264684792499109\n"
     ]
    }
   ],
   "source": [
    "correctPrediction = predictionFinal.filter(\n",
    "    predictionFinal['prediction'] == predictionFinal['trueLabel']).count()\n",
    "totalData = predictionFinal.count()\n",
    "print(\"correct prediction:\", correctPrediction, \", total data:\", \n",
    "      totalData, \", accuracy\", correctPrediction/totalData)"
   ]
  },
  {
   "cell_type": "markdown",
   "metadata": {},
   "source": [
    "# Clustering Problem"
   ]
  },
  {
   "cell_type": "markdown",
   "metadata": {},
   "source": [
    "+ We can't use the same data for our clustring algorithm as clustering algorithms aren't used for label prediction\n",
    "+ We will be using another dataset"
   ]
  },
  {
   "cell_type": "markdown",
   "metadata": {},
   "source": [
    "## Read file into dataFrame\n",
    "Description for each column data:\n",
    "- CustomerName: name of customer\n",
    "- Age: age of customer (in year)\n",
    "- MaritalStatus: (1=married, 0=not married)\n",
    "- IncomeRange: income per year (in USD)\n",
    "- Gender: (1=female, 2=male)\n",
    "- TotalChildren: number of children customer has\n",
    "- ChildrenAtHome: number of children living with customer (in the same home)\n",
    "- Education: (1=high school, 2=bachelor, 3=master, 4=PhD, 5=Post-doc)\n",
    "- Occupation: (0=unskilled manual work until 5=professional)\n",
    "- HomeOwner: (1=owning a home, 0=not owning a home)\n",
    "- Cars: number of car customer has"
   ]
  },
  {
   "cell_type": "code",
   "execution_count": 41,
   "metadata": {},
   "outputs": [
    {
     "name": "stdout",
     "output_type": "stream",
     "text": [
      "+---------------+---+-------------+-----------+------+-------------+--------------+---------+----------+---------+----+\n",
      "|   CustomerName|Age|MaritalStatus|IncomeRange|Gender|TotalChildren|ChildrenAtHome|Education|Occupation|HomeOwner|Cars|\n",
      "+---------------+---+-------------+-----------+------+-------------+--------------+---------+----------+---------+----+\n",
      "|    Aaron Adams| 42|            0|      50000|     0|            0|             0|        3|         2|        1|   1|\n",
      "|Aaron Alexander| 40|            1|      50000|     0|            0|             0|        2|         2|        1|   2|\n",
      "|    Aaron Allen| 63|            0|      25000|     0|            2|             1|        2|         1|        1|   2|\n",
      "+---------------+---+-------------+-----------+------+-------------+--------------+---------+----------+---------+----+\n",
      "only showing top 3 rows\n",
      "\n"
     ]
    }
   ],
   "source": [
    "customersSchema = StructType([\n",
    "  StructField(\"CustomerName\", StringType(), False),\n",
    "  StructField(\"Age\", IntegerType(), False),\n",
    "  StructField(\"MaritalStatus\", IntegerType(), False),\n",
    "  StructField(\"IncomeRange\", IntegerType(), False),\n",
    "  StructField(\"Gender\", IntegerType(), False),\n",
    "  StructField(\"TotalChildren\", IntegerType(), False),\n",
    "  StructField(\"ChildrenAtHome\", IntegerType(), False),\n",
    "  StructField(\"Education\", IntegerType(), False),\n",
    "  StructField(\"Occupation\", IntegerType(), False),\n",
    "  StructField(\"HomeOwner\", IntegerType(), False),\n",
    "  StructField(\"Cars\", IntegerType(), False),\n",
    "])\n",
    "\n",
    "customers = spark.read.csv('dataset/customers.csv', \n",
    "                         schema=customersSchema, header=True)\n",
    "\n",
    "customers.show(3)"
   ]
  },
  {
   "cell_type": "markdown",
   "metadata": {},
   "source": [
    "# Preprocessing The Data"
   ]
  },
  {
   "cell_type": "markdown",
   "metadata": {},
   "source": [
    "+ Dropping the duplicate entries"
   ]
  },
  {
   "cell_type": "code",
   "execution_count": 42,
   "metadata": {},
   "outputs": [
    {
     "name": "stdout",
     "output_type": "stream",
     "text": [
      "number of original data rows:  18508\n",
      "number of data rows after deleting duplicated data:  18484\n",
      "number of duplicated data:  24\n"
     ]
    }
   ],
   "source": [
    "#count the number of original data rows\n",
    "n1 = customers.count()\n",
    "print(\"number of original data rows: \", n1)\n",
    "#count the number of data rows after deleting duplicated data\n",
    "n2 = customers.dropDuplicates().count()\n",
    "print(\"number of data rows after deleting duplicated data: \", n2)\n",
    "n3 = n1 - n2\n",
    "print(\"number of duplicated data: \", n3)"
   ]
  },
  {
   "cell_type": "code",
   "execution_count": 43,
   "metadata": {},
   "outputs": [
    {
     "name": "stdout",
     "output_type": "stream",
     "text": [
      "18484\n"
     ]
    }
   ],
   "source": [
    "customers =  customers.dropDuplicates()\n",
    "n4 = customers.count()\n",
    "print(n4)"
   ]
  },
  {
   "cell_type": "markdown",
   "metadata": {},
   "source": [
    "+ Counting the missing data"
   ]
  },
  {
   "cell_type": "code",
   "execution_count": 44,
   "metadata": {},
   "outputs": [
    {
     "name": "stdout",
     "output_type": "stream",
     "text": [
      "+------------+---+-------------+-----------+------+-------------+--------------+---------+----------+---------+----+\n",
      "|CustomerName|Age|MaritalStatus|IncomeRange|Gender|TotalChildren|ChildrenAtHome|Education|Occupation|HomeOwner|Cars|\n",
      "+------------+---+-------------+-----------+------+-------------+--------------+---------+----------+---------+----+\n",
      "|           0|  0|            0|          0|     0|            0|             0|        0|         0|        0|   0|\n",
      "+------------+---+-------------+-----------+------+-------------+--------------+---------+----------+---------+----+\n",
      "\n"
     ]
    }
   ],
   "source": [
    "customers.select([count(when(isnan(c) | col(c).isNull(), c)).alias(c) for c in customers.columns]).show()"
   ]
  },
  {
   "cell_type": "markdown",
   "metadata": {},
   "source": [
    "+ There is no missing values so the dataset is ready to be normalized"
   ]
  },
  {
   "cell_type": "markdown",
   "metadata": {},
   "source": [
    "# Normalization\n",
    "+ We will be normalizing the IncomeRange and Age columns"
   ]
  },
  {
   "cell_type": "code",
   "execution_count": 45,
   "metadata": {},
   "outputs": [
    {
     "name": "stdout",
     "output_type": "stream",
     "text": [
      "This is the maximum of the column 'OriginAirportID': \n",
      "+--------+\n",
      "|max(Age)|\n",
      "+--------+\n",
      "|     106|\n",
      "+--------+\n",
      "\n",
      "This is the minimum of the column 'OriginAirportID': \n",
      "+--------+\n",
      "|min(Age)|\n",
      "+--------+\n",
      "|      36|\n",
      "+--------+\n",
      "\n",
      "This is the maximum of the column 'OriginAirportID': \n",
      "+----------------+\n",
      "|max(IncomeRange)|\n",
      "+----------------+\n",
      "|          150000|\n",
      "+----------------+\n",
      "\n",
      "This is the minimum of the column 'OriginAirportID': \n",
      "+----------------+\n",
      "|min(IncomeRange)|\n",
      "+----------------+\n",
      "|           25000|\n",
      "+----------------+\n",
      "\n"
     ]
    }
   ],
   "source": [
    "print(\"This is the maximum of the column 'OriginAirportID': \")\n",
    "customers.agg({'Age':'max'}).show()\n",
    "\n",
    "print(\"This is the minimum of the column 'OriginAirportID': \")\n",
    "customers.agg({'Age':'min'}).show()\n",
    "\n",
    "print(\"This is the maximum of the column 'OriginAirportID': \")\n",
    "customers.agg({'IncomeRange':'max'}).show()\n",
    "\n",
    "print(\"This is the minimum of the column 'OriginAirportID': \")\n",
    "customers.agg({'IncomeRange':'min'}).show()"
   ]
  },
  {
   "cell_type": "code",
   "execution_count": 46,
   "metadata": {},
   "outputs": [
    {
     "name": "stdout",
     "output_type": "stream",
     "text": [
      "+---------------+---+-------------+-----------+------+-------------+--------------+---------+----------+---------+----+-------+---------------+--------------------+--------------------+\n",
      "|   CustomerName|Age|MaritalStatus|IncomeRange|Gender|TotalChildren|ChildrenAtHome|Education|Occupation|HomeOwner|Cars|Age_vec|IncomeRange_vec|          Age_scaled|  IncomeRange_scaled|\n",
      "+---------------+---+-------------+-----------+------+-------------+--------------+---------+----------+---------+----+-------+---------------+--------------------+--------------------+\n",
      "| Aaron Campbell| 49|            0|      75000|     0|            0|             0|        5|         5|        1|   1| [49.0]|      [75000.0]|[0.18571428571428...|[0.39999999999999...|\n",
      "|    Aaron Hayes| 58|            1|     100000|     0|            1|             0|        3|         2|        1|   1| [58.0]|     [100000.0]|[0.3142857142857143]|               [0.6]|\n",
      "|Aidan Alexander| 44|            1|      50000|     0|            1|             1|        5|         2|        1|   0| [44.0]|      [50000.0]|[0.11428571428571...|[0.19999999999999...|\n",
      "|     Alan Zheng| 65|            1|      50000|     0|            3|             0|        2|         2|        1|   2| [65.0]|      [50000.0]|[0.41428571428571...|[0.19999999999999...|\n",
      "|Andrea Campbell| 54|            0|      25000|     1|            1|             0|        5|         3|        1|   0| [54.0]|      [25000.0]|[0.2571428571428571]|               [0.0]|\n",
      "+---------------+---+-------------+-----------+------+-------------+--------------+---------+----------+---------+----+-------+---------------+--------------------+--------------------+\n",
      "only showing top 5 rows\n",
      "\n"
     ]
    }
   ],
   "source": [
    "from pyspark.ml import Pipeline\n",
    "from pyspark.ml.feature import MinMaxScaler\n",
    "from pyspark.ml.feature import VectorAssembler\n",
    "\n",
    "columns_to_scale = [\"Age\", \"IncomeRange\"]\n",
    "assemblers = [VectorAssembler(inputCols=[col], outputCol=col + \"_vec\") for col in columns_to_scale]\n",
    "scalers = [MinMaxScaler(inputCol=col + \"_vec\", outputCol=col + \"_scaled\") for col in columns_to_scale]\n",
    "pipeline = Pipeline(stages=assemblers + scalers)\n",
    "scalerModel = pipeline.fit(customers)\n",
    "scaledcustomersData = scalerModel.transform(customers)\n",
    "scaledcustomersData.show(5)"
   ]
  },
  {
   "cell_type": "markdown",
   "metadata": {},
   "source": [
    "+ Dropping all unecessary columns"
   ]
  },
  {
   "cell_type": "code",
   "execution_count": 47,
   "metadata": {},
   "outputs": [
    {
     "name": "stdout",
     "output_type": "stream",
     "text": [
      "+---------------+--------------------+-------------+--------------------+------+-------------+--------------+---------+----------+---------+----+\n",
      "|   CustomerName|          Age_scaled|MaritalStatus|  IncomeRange_scaled|Gender|TotalChildren|ChildrenAtHome|Education|Occupation|HomeOwner|Cars|\n",
      "+---------------+--------------------+-------------+--------------------+------+-------------+--------------+---------+----------+---------+----+\n",
      "| Aaron Campbell|[0.18571428571428...|            0|[0.39999999999999...|     0|            0|             0|        5|         5|        1|   1|\n",
      "|    Aaron Hayes|[0.3142857142857143]|            1|               [0.6]|     0|            1|             0|        3|         2|        1|   1|\n",
      "|Aidan Alexander|[0.11428571428571...|            1|[0.19999999999999...|     0|            1|             1|        5|         2|        1|   0|\n",
      "|     Alan Zheng|[0.41428571428571...|            1|[0.19999999999999...|     0|            3|             0|        2|         2|        1|   2|\n",
      "|Andrea Campbell|[0.2571428571428571]|            0|               [0.0]|     1|            1|             0|        5|         3|        1|   0|\n",
      "+---------------+--------------------+-------------+--------------------+------+-------------+--------------+---------+----------+---------+----+\n",
      "only showing top 5 rows\n",
      "\n"
     ]
    }
   ],
   "source": [
    "FinalCustomerData = scaledcustomersData.select(\n",
    "    \"CustomerName\", \"Age_scaled\", \"MaritalStatus\", \"IncomeRange_scaled\", \n",
    "    \"Gender\",\"TotalChildren\",\"ChildrenAtHome\",\"Education\",\"Occupation\",\"HomeOwner\",\"Cars\")\n",
    "FinalCustomerData.show(5)"
   ]
  },
  {
   "cell_type": "code",
   "execution_count": 48,
   "metadata": {},
   "outputs": [],
   "source": [
    "################################"
   ]
  },
  {
   "cell_type": "markdown",
   "metadata": {},
   "source": [
    "# Statistical Summaries on the data for clustering, also known as EDA"
   ]
  },
  {
   "cell_type": "code",
   "execution_count": 49,
   "metadata": {},
   "outputs": [],
   "source": [
    "################################"
   ]
  },
  {
   "cell_type": "markdown",
   "metadata": {},
   "source": [
    "## Preparing the data for applying the clustering algorithm"
   ]
  },
  {
   "cell_type": "code",
   "execution_count": 50,
   "metadata": {},
   "outputs": [
    {
     "name": "stdout",
     "output_type": "stream",
     "text": [
      "+---------------+-------------------------------------------------------------------------+\n",
      "|CustomerName   |features                                                                 |\n",
      "+---------------+-------------------------------------------------------------------------+\n",
      "|Aaron Campbell |[0.18571428571428572,0.0,0.39999999999999997,0.0,0.0,0.0,5.0,5.0,1.0,1.0]|\n",
      "|Aaron Hayes    |[0.3142857142857143,1.0,0.6,0.0,1.0,0.0,3.0,2.0,1.0,1.0]                 |\n",
      "|Aidan Alexander|[0.11428571428571428,1.0,0.19999999999999998,0.0,1.0,1.0,5.0,2.0,1.0,0.0]|\n",
      "|Alan Zheng     |[0.41428571428571426,1.0,0.19999999999999998,0.0,3.0,0.0,2.0,2.0,1.0,2.0]|\n",
      "|Andrea Campbell|[0.2571428571428571,0.0,0.0,1.0,1.0,0.0,5.0,3.0,1.0,0.0]                 |\n",
      "+---------------+-------------------------------------------------------------------------+\n",
      "only showing top 5 rows\n",
      "\n"
     ]
    }
   ],
   "source": [
    "#define assembler\n",
    "assembler = VectorAssembler(inputCols = [\n",
    "    \"Age_scaled\", \"MaritalStatus\", \"IncomeRange_scaled\", \n",
    "    \"Gender\",\"TotalChildren\",\"ChildrenAtHome\",\"Education\",\"Occupation\",\"HomeOwner\",\"Cars\"], \n",
    "                            outputCol=\"features\")\n",
    "data = assembler.transform(FinalCustomerData).select('CustomerName', 'features')\n",
    "data.show(truncate = False, n=5)"
   ]
  },
  {
   "cell_type": "markdown",
   "metadata": {},
   "source": [
    "## Create k-Means clustering model"
   ]
  },
  {
   "cell_type": "code",
   "execution_count": 51,
   "metadata": {},
   "outputs": [
    {
     "name": "stdout",
     "output_type": "stream",
     "text": [
      "Model is successfully trained!\n"
     ]
    }
   ],
   "source": [
    "#define kMeans clustering algorithm\n",
    "from pyspark.ml.clustering import KMeans\n",
    "from pyspark.ml.feature import VectorAssembler\n",
    "kmeans = KMeans(\n",
    "    featuresCol=assembler.getOutputCol(), \n",
    "    predictionCol=\"cluster\", k=5)\n",
    "model = kmeans.fit(data)\n",
    "print (\"Model is successfully trained!\")"
   ]
  },
  {
   "cell_type": "markdown",
   "metadata": {},
   "source": [
    "## Print centroid for each cluster"
   ]
  },
  {
   "cell_type": "code",
   "execution_count": 52,
   "metadata": {},
   "outputs": [
    {
     "name": "stdout",
     "output_type": "stream",
     "text": [
      "Cluster Centers: \n",
      "[0.26679017 0.63066316 0.66441234 0.49343401 3.21897571 3.93466842\n",
      " 3.20617203 4.08273145 0.76362443 2.82206172]\n",
      "[0.2078454  0.44468972 0.39406426 0.50551876 0.46357616 0.11160167\n",
      " 4.25214619 4.08879078 0.59504538 0.95560461]\n",
      "[0.20826773 0.45458506 0.19455456 0.48573296 0.87453714 0.1570464\n",
      " 2.1272054  1.89501198 0.54672185 1.58091919]\n",
      "[0.23565812 0.58027523 0.18374836 0.49246396 1.91743119 0.92791612\n",
      " 3.71952818 1.92791612 0.81454784 0.52293578]\n",
      "[0.41111581 0.65061861 0.41065089 0.49381388 3.36982249 0.690156\n",
      " 3.36471221 4.4464766  0.74072082 1.72942442]\n"
     ]
    }
   ],
   "source": [
    "centers = model.clusterCenters()\n",
    "print(\"Cluster Centers: \")\n",
    "for center in centers:\n",
    "    print(center)"
   ]
  },
  {
   "cell_type": "markdown",
   "metadata": {},
   "source": [
    "## Cluster the data"
   ]
  },
  {
   "cell_type": "code",
   "execution_count": 53,
   "metadata": {},
   "outputs": [
    {
     "name": "stdout",
     "output_type": "stream",
     "text": [
      "+-------+-----+\n",
      "|cluster|count|\n",
      "+-------+-----+\n",
      "|      0| 3046|\n",
      "|      1| 4077|\n",
      "|      2| 4591|\n",
      "|      3| 3052|\n",
      "|      4| 3718|\n",
      "+-------+-----+\n",
      "\n",
      "+---------------+-------+\n",
      "|   CustomerName|cluster|\n",
      "+---------------+-------+\n",
      "| Aaron Campbell|      1|\n",
      "|    Aaron Hayes|      2|\n",
      "|Aidan Alexander|      3|\n",
      "|     Alan Zheng|      2|\n",
      "|Andrea Campbell|      1|\n",
      "+---------------+-------+\n",
      "only showing top 5 rows\n",
      "\n"
     ]
    }
   ],
   "source": [
    "prediction = model.transform(data)#cluster given data\n",
    "prediction.groupBy(\"cluster\").count().orderBy(\"cluster\").show()#count members in each cluster\n",
    "prediction.select('CustomerName', 'cluster').show(5)#show several clustered data"
   ]
  },
  {
   "cell_type": "markdown",
   "metadata": {},
   "source": [
    "# Visualizing the results"
   ]
  },
  {
   "cell_type": "markdown",
   "metadata": {},
   "source": [
    "## For the classification problem\n",
    "+ we can infer how the model performed using the following confusion matrix."
   ]
  },
  {
   "cell_type": "code",
   "execution_count": 54,
   "metadata": {},
   "outputs": [
    {
     "data": {
      "image/png": "[encoded data removed]",
      "text/plain": [
       "<Figure size 432x288 with 2 Axes>"
      ]
     },
     "metadata": {},
     "output_type": "display_data"
    }
   ],
   "source": [
    "pandaspredictionFinal = predictionFinal.toPandas()\n",
    "\n",
    "confusion_matrix = pd.crosstab(pandaspredictionFinal['trueLabel'], pandaspredictionFinal['prediction'], rownames=['Actual'], colnames=['Predicted'])\n",
    "#plt.figure(figsize=(10,10))\n",
    "#sns.set(font_scale=1.4)\n",
    "sns.heatmap(confusion_matrix, annot=True, fmt='d')\n",
    "plt.show()"
   ]
  },
  {
   "cell_type": "markdown",
   "metadata": {},
   "source": [
    "**From this we conclude the following**\n",
    "+ **True Positive count  : 116634**\n",
    "+ **False Positive count : 14746**\n",
    "+ **True Negative count  : 632753**\n",
    "+ **False Negative count : 44731**"
   ]
  },
  {
   "cell_type": "markdown",
   "metadata": {},
   "source": [
    "## For the clustering problem\n",
    "+ we can infer how the model has clustered our data"
   ]
  },
  {
   "cell_type": "code",
   "execution_count": 55,
   "metadata": {},
   "outputs": [
    {
     "data": {
      "text/html": [
       "<div>\n",
       "<style scoped>\n",
       "    .dataframe tbody tr th:only-of-type {\n",
       "        vertical-align: middle;\n",
       "    }\n",
       "\n",
       "    .dataframe tbody tr th {\n",
       "        vertical-align: top;\n",
       "    }\n",
       "\n",
       "    .dataframe thead th {\n",
       "        text-align: right;\n",
       "    }\n",
       "</style>\n",
       "<table border=\"1\" class=\"dataframe\">\n",
       "  <thead>\n",
       "    <tr style=\"text-align: right;\">\n",
       "      <th></th>\n",
       "      <th>CustomerName</th>\n",
       "      <th>features</th>\n",
       "      <th>cluster</th>\n",
       "    </tr>\n",
       "  </thead>\n",
       "  <tbody>\n",
       "    <tr>\n",
       "      <th>0</th>\n",
       "      <td>Aaron Campbell</td>\n",
       "      <td>[0.18571428571428572, 0.0, 0.39999999999999997...</td>\n",
       "      <td>1</td>\n",
       "    </tr>\n",
       "    <tr>\n",
       "      <th>1</th>\n",
       "      <td>Aaron Hayes</td>\n",
       "      <td>[0.3142857142857143, 1.0, 0.6, 0.0, 1.0, 0.0, ...</td>\n",
       "      <td>2</td>\n",
       "    </tr>\n",
       "    <tr>\n",
       "      <th>2</th>\n",
       "      <td>Aidan Alexander</td>\n",
       "      <td>[0.11428571428571428, 1.0, 0.19999999999999998...</td>\n",
       "      <td>3</td>\n",
       "    </tr>\n",
       "    <tr>\n",
       "      <th>3</th>\n",
       "      <td>Alan Zheng</td>\n",
       "      <td>[0.41428571428571426, 1.0, 0.19999999999999998...</td>\n",
       "      <td>2</td>\n",
       "    </tr>\n",
       "    <tr>\n",
       "      <th>4</th>\n",
       "      <td>Andrea Campbell</td>\n",
       "      <td>[0.2571428571428571, 0.0, 0.0, 1.0, 1.0, 0.0, ...</td>\n",
       "      <td>1</td>\n",
       "    </tr>\n",
       "  </tbody>\n",
       "</table>\n",
       "</div>"
      ],
      "text/plain": [
       "      CustomerName                                           features  cluster\n",
       "0   Aaron Campbell  [0.18571428571428572, 0.0, 0.39999999999999997...        1\n",
       "1      Aaron Hayes  [0.3142857142857143, 1.0, 0.6, 0.0, 1.0, 0.0, ...        2\n",
       "2  Aidan Alexander  [0.11428571428571428, 1.0, 0.19999999999999998...        3\n",
       "3       Alan Zheng  [0.41428571428571426, 1.0, 0.19999999999999998...        2\n",
       "4  Andrea Campbell  [0.2571428571428571, 0.0, 0.0, 1.0, 1.0, 0.0, ...        1"
      ]
     },
     "execution_count": 55,
     "metadata": {},
     "output_type": "execute_result"
    }
   ],
   "source": [
    "pandasClusterpredictionFinal = prediction.toPandas()\n",
    "pandasClusterpredictionFinal.head(5)"
   ]
  },
  {
   "cell_type": "code",
   "execution_count": 56,
   "metadata": {},
   "outputs": [
    {
     "data": {
      "text/plain": [
       "array([1, 2, 3, 4, 0])"
      ]
     },
     "execution_count": 56,
     "metadata": {},
     "output_type": "execute_result"
    }
   ],
   "source": [
    "pandasClusterpredictionFinal.cluster.unique()"
   ]
  },
  {
   "cell_type": "markdown",
   "metadata": {},
   "source": [
    "+ There are 5 clusters '0','1','2','3' and '4' and each person has been clustered into one of these groups based on the features they had"
   ]
  },
  {
   "cell_type": "code",
   "execution_count": 57,
   "metadata": {},
   "outputs": [
    {
     "data": {
      "image/png": "[encoded data removed]",
      "text/plain": [
       "<Figure size 504x504 with 1 Axes>"
      ]
     },
     "metadata": {},
     "output_type": "display_data"
    }
   ],
   "source": [
    "xcluster, ycluster = getCount(pandasClusterpredictionFinal[\"cluster\"])\n",
    "myPlot(xcluster, ycluster, xLable=\"Clusters : 0,1,2,3,4\", yLable=\"% Percentage\", title=\"Clusters ratio\",figsize=(7,7),type='bar')"
   ]
  },
  {
   "cell_type": "markdown",
   "metadata": {},
   "source": [
    "+ **We conclude that the cluster with the highest concentration of data points was cluster group '2'**"
   ]
  },
  {
   "cell_type": "code",
   "execution_count": null,
   "metadata": {},
   "outputs": [],
   "source": []
  }
 ],
 "metadata": {
  "kernelspec": {
   "display_name": "Python 3",
   "language": "python",
   "name": "python3"
  },
  "language_info": {
   "codemirror_mode": {
    "name": "ipython",
    "version": 3
   },
   "file_extension": ".py",
   "mimetype": "text/x-python",
   "name": "python",
   "nbconvert_exporter": "python",
   "pygments_lexer": "ipython3",
   "version": "3.8.3"
  }
 },
 "nbformat": 4,
 "nbformat_minor": 4
}
